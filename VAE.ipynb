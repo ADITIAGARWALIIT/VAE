{
  "nbformat": 4,
  "nbformat_minor": 0,
  "metadata": {
    "colab": {
      "name": "VAE.ipynb",
      "provenance": [],
      "collapsed_sections": []
    },
    "kernelspec": {
      "name": "python3",
      "display_name": "Python 3"
    }
  },
  "cells": [
    {
      "cell_type": "code",
      "metadata": {
        "id": "774Cvs1ifPUK",
        "colab_type": "code",
        "colab": {}
      },
      "source": [
        "import tensorflow as tf\n",
        "import numpy as np\n",
        "import matplotlib.pyplot as plt\n",
        "from tensorflow.examples.tutorials.mnist import input_data\n",
        "#Loading the training data\n",
        "myData = input_data.read_data_sets('MNIST_data')        "
      ],
      "execution_count": 0,
      "outputs": []
    },
    {
      "cell_type": "code",
      "metadata": {
        "id": "ZxlmNm-i821j",
        "colab_type": "code",
        "colab": {}
      },
      "source": [
        "tf.reset_default_graph()"
      ],
      "execution_count": 0,
      "outputs": []
    },
    {
      "cell_type": "markdown",
      "metadata": {
        "id": "ZOV2NpCw9Y_C",
        "colab_type": "text"
      },
      "source": [
        "MNIST images have a dimension of 28 * 28 pixels with one color channel. Input X_INPUT will be batches of MNIST characters. The network will learn to reconstruct them and output them in a placeholder Y_OUTPUT, which has the same dimensions. Y_FLATTENED will be used later, when computing losses. KEEP_PROB will be used when applying dropouts as a means of regularization."
      ]
    },
    {
      "cell_type": "code",
      "metadata": {
        "id": "_vgEkGsk9BC7",
        "colab_type": "code",
        "colab": {}
      },
      "source": [
        "BATCH_SIZE = 64\n",
        "#Defining input and output data\n",
        "X_INPUT = tf.placeholder(dtype=tf.float32, shape=[None, 28, 28], name='X')\n",
        "Y_OUTPUT = tf.placeholder(dtype=tf.float32, shape=[None, 28, 28], name='Y')\n",
        "Y_FLATTENED = tf.reshape(Y_OUTPUT, shape=[-1, 28*28])\n",
        "KEEP_PROB = tf.placeholder(dtype=tf.float32, shape=(), name='KEEP_PROB')\n",
        "\n",
        "\n",
        "DEC_IN_CHANNELS = 1\n",
        "NUM_LATENS = 8\n",
        "RESHAPED_DIM = [-1, 7, 7, DEC_IN_CHANNELS]\n",
        "INPUTS_DECODER = 24"
      ],
      "execution_count": 0,
      "outputs": []
    },
    {
      "cell_type": "code",
      "metadata": {
        "id": "nnD6pmOD9Ghr",
        "colab_type": "code",
        "colab": {}
      },
      "source": [
        "def encoder(x_input, keep_prob):\n",
        "    \"\"\"\n",
        "        Applies 3 layers of convolutions to the input data with dropout\n",
        "    \"\"\"\n",
        "    with tf.variable_scope(\"encoder\"):\n",
        "\n",
        "        # Flatten the input\n",
        "        x = tf.reshape(x_input, shape=[-1, 28, 28, 1])\n",
        "\n",
        "        # CONV L1\n",
        "        x = tf.layers.conv2d(x, filters=64, kernel_size=4, strides=2, padding='SAME', activation=tf.nn.leaky_relu)\n",
        "        # L1 DROPOUT\n",
        "        x = tf.nn.dropout(x, keep_prob)\n",
        "\n",
        "        # CONV L2\n",
        "        x = tf.layers.conv2d(x, filters=64, kernel_size=4, strides=2, padding='SAME', activation=tf.nn.leaky_relu)\n",
        "        # L2 DROPOUT\n",
        "        x = tf.nn.dropout(x, keep_prob)\n",
        "\n",
        "        # CONV L3\n",
        "        x = tf.layers.conv2d(x, filters=64, kernel_size=4, strides=1, padding='SAME', activation=tf.nn.leaky_relu)\n",
        "        # L3 DROPOUT\n",
        "        x = tf.nn.dropout(x, keep_prob)\n",
        "        \n",
        "        x = tf.contrib.layers.flatten(x)\n",
        "        x_dense = tf.layers.dense(x, units=NUM_LATENS)\n",
        "        sd = 0.5 * tf.layers.dense(x, units=NUM_LATENS)\n",
        "        epsilon = tf.random_normal(tf.stack([tf.shape(x)[0], NUM_LATENS]))\n",
        "        z = x_dense + tf.multiply(epsilon, tf.exp(sd))\n",
        "\n",
        "        return z, x_dense, sd"
      ],
      "execution_count": 0,
      "outputs": []
    },
    {
      "cell_type": "code",
      "metadata": {
        "id": "vlFXYXyn9Scr",
        "colab_type": "code",
        "colab": {}
      },
      "source": [
        "def decoder(sampled_z, keep_prob):\n",
        "    \"\"\"\n",
        "        Regenerate an image using coded images\n",
        "    \"\"\"\n",
        "    with tf.variable_scope(\"decoder\"):\n",
        "        x = tf.layers.dense(sampled_z, units=INPUTS_DECODER, activation=tf.nn.leaky_relu)\n",
        "        x = tf.layers.dense(x, units=INPUTS_DECODER*2 + 1, activation=tf.nn.leaky_relu)\n",
        "\n",
        "        x = tf.reshape(x, RESHAPED_DIM)\n",
        "\n",
        "        # TRANSPOSED CONV 1-3 + DROPOUTS\n",
        "        x = tf.layers.conv2d_transpose(x, filters=64, kernel_size=4, strides=2, padding='same', activation=tf.nn.relu)\n",
        "        x = tf.nn.dropout(x, keep_prob)\n",
        "        x = tf.layers.conv2d_transpose(x, filters=64, kernel_size=4, strides=1, padding='same', activation=tf.nn.relu)\n",
        "        x = tf.nn.dropout(x, keep_prob)\n",
        "        x = tf.layers.conv2d_transpose(x, filters=64, kernel_size=4, strides=1, padding='same', activation=tf.nn.relu)\n",
        "\n",
        "        x = tf.contrib.layers.flatten(x)\n",
        "        x = tf.layers.dense(x, units=28*28, activation=tf.nn.sigmoid)\n",
        "        img = tf.reshape(x, shape=[-1, 28, 28])\n",
        "\n",
        "        return img"
      ],
      "execution_count": 0,
      "outputs": []
    },
    {
      "cell_type": "code",
      "metadata": {
        "id": "GEDbi-Gj9Y8n",
        "colab_type": "code",
        "colab": {}
      },
      "source": [
        "CODED_IMG, MN, SD = encoder(X_INPUT, KEEP_PROB)\n",
        "DECODED_IMG = decoder(CODED_IMG, KEEP_PROB)"
      ],
      "execution_count": 0,
      "outputs": []
    },
    {
      "cell_type": "code",
      "metadata": {
        "id": "Y6QJZt4r9dq4",
        "colab_type": "code",
        "colab": {}
      },
      "source": [
        "UN_RESHAPED = tf.reshape(DECODED_IMG, [-1, 28*28])\n",
        "delta1 = tf.constant(4.5)\n",
        "a1 = tf.reduce_sum(tf.squared_difference(UN_RESHAPED, Y_FLATTENED), 1)\n",
        "# Image reconstruction loss\n",
        "IMG_LOSS = tf.multiply(tf.square(delta1), tf.sqrt(1. + a1/tf.square(delta1)) - 1.)\n",
        "# KL divergence loss\n",
        "LATENT_LOSS = -0.5 * tf.reduce_sum(1.0 + 2.0*SD - tf.square(MN) - tf.exp(2.0*SD), 1)\n",
        "LOSS = tf.reduce_mean(IMG_LOSS + LATENT_LOSS)\n",
        "OPTIMIZER = tf.train.AdamOptimizer(0.0005).minimize(LOSS)"
      ],
      "execution_count": 0,
      "outputs": []
    },
    {
      "cell_type": "code",
      "metadata": {
        "id": "TbbjG117BuwS",
        "colab_type": "code",
        "colab": {}
      },
      "source": [
        "SESS = tf.Session()\n",
        "SESS.run(tf.global_variables_initializer())\n"
      ],
      "execution_count": 0,
      "outputs": []
    },
    {
      "cell_type": "code",
      "metadata": {
        "id": "uCMot3aTByf1",
        "colab_type": "code",
        "outputId": "e9bc53d0-123c-43cb-c198-65c3846e8e3c",
        "colab": {
          "base_uri": "https://localhost:8080/",
          "height": 153
        }
      },
      "source": [
        "#Training the network\n",
        "for i in range(1500):\n",
        "    BATCH = [np.reshape(b, [28, 28]) for b in myData.train.next_batch(batch_size=BATCH_SIZE)[0]]\n",
        "    SESS.run(OPTIMIZER, feed_dict={X_INPUT: BATCH, Y_OUTPUT: BATCH, KEEP_PROB: 0.8})\n",
        "\n",
        "    if not i % 200:\n",
        "        ls, d, i_ls, d_ls, mu, sigma = SESS.run([LOSS, DECODED_IMG, IMG_LOSS, LATENT_LOSS, MN, SD],\n",
        "        feed_dict={X_INPUT: BATCH, Y_OUTPUT: BATCH, KEEP_PROB: 1.0})\n",
        "        print(i, ls, np.mean(i_ls), np.mean(d_ls))"
      ],
      "execution_count": 0,
      "outputs": [
        {
          "output_type": "stream",
          "text": [
            "0 43.159126 43.157017 0.002107344\n",
            "200 18.428791 18.347586 0.08120561\n",
            "400 17.510725 17.160767 0.3499576\n",
            "600 17.765636 17.438187 0.32744837\n",
            "800 17.685162 16.952358 0.7328056\n",
            "1000 16.965015 15.858191 1.1068242\n",
            "1200 17.015224 15.630013 1.3852115\n",
            "1400 17.09377 15.1971035 1.8966639\n"
          ],
          "name": "stdout"
        }
      ]
    },
    {
      "cell_type": "code",
      "metadata": {
        "id": "Q8YOEB4vFglM",
        "colab_type": "code",
        "outputId": "df39c834-ef2b-423f-a6f8-ba66c3080ef6",
        "colab": {
          "base_uri": "https://localhost:8080/",
          "height": 697
        }
      },
      "source": [
        "#Generating new data\n",
        "RANDOM_CODE = [np.random.normal(0, 1, NUM_LATENS) for _ in range(10)]\n",
        "IMAGES = SESS.run(DECODED_IMG, feed_dict={CODED_IMG: RANDOM_CODE, KEEP_PROB: 1.0})\n",
        "IMAGES = [np.reshape(IMAGES[i], [28,28]) for i in range(len(IMAGES))]\n",
        "\n",
        "for img in IMAGES:\n",
        "    plt.figure(figsize=(1,1))\n",
        "    plt.axis('off')\n",
        "    plt.imshow(img, cmap='gray')\n",
        "    plt.show()"
      ],
      "execution_count": 0,
      "outputs": [
        {
          "output_type": "display_data",
          "data": {
            "image/png": "[encoded data removed]",
            "text/plain": [
              "<Figure size 72x72 with 1 Axes>"
            ]
          },
          "metadata": {
            "tags": []
          }
        },
        {
          "output_type": "display_data",
          "data": {
            "image/png": "[encoded data removed]",
            "text/plain": [
              "<Figure size 72x72 with 1 Axes>"
            ]
          },
          "metadata": {
            "tags": []
          }
        },
        {
          "output_type": "display_data",
          "data": {
            "image/png": "[encoded data removed]",
            "text/plain": [
              "<Figure size 72x72 with 1 Axes>"
            ]
          },
          "metadata": {
            "tags": []
          }
        },
        {
          "output_type": "display_data",
          "data": {
            "image/png": "[encoded data removed]",
            "text/plain": [
              "<Figure size 72x72 with 1 Axes>"
            ]
          },
          "metadata": {
            "tags": []
          }
        },
        {
          "output_type": "display_data",
          "data": {
            "image/png": "[encoded data removed]",
            "text/plain": [
              "<Figure size 72x72 with 1 Axes>"
            ]
          },
          "metadata": {
            "tags": []
          }
        },
        {
          "output_type": "display_data",
          "data": {
            "image/png": "[encoded data removed]",
            "text/plain": [
              "<Figure size 72x72 with 1 Axes>"
            ]
          },
          "metadata": {
            "tags": []
          }
        },
        {
          "output_type": "display_data",
          "data": {
            "image/png": "[encoded data removed]",
            "text/plain": [
              "<Figure size 72x72 with 1 Axes>"
            ]
          },
          "metadata": {
            "tags": []
          }
        },
        {
          "output_type": "display_data",
          "data": {
            "image/png": "[encoded data removed]",
            "text/plain": [
              "<Figure size 72x72 with 1 Axes>"
            ]
          },
          "metadata": {
            "tags": []
          }
        },
        {
          "output_type": "display_data",
          "data": {
            "image/png": "[encoded data removed]",
            "text/plain": [
              "<Figure size 72x72 with 1 Axes>"
            ]
          },
          "metadata": {
            "tags": []
          }
        },
        {
          "output_type": "display_data",
          "data": {
            "image/png": "[encoded data removed]",
            "text/plain": [
              "<Figure size 72x72 with 1 Axes>"
            ]
          },
          "metadata": {
            "tags": []
          }
        }
      ]
    }
  ]
}